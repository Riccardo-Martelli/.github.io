{
 "cells": [
  {
   "cell_type": "code",
   "execution_count": null,
   "id": "e7d0b7a6-75cb-4d71-ac90-8dc1c756d80a",
   "metadata": {},
   "outputs": [
    {
     "data": {
      "application/vnd.jupyter.widget-view+json": {
       "model_id": "d615e6a5da8343be8e6fabe3ca8a411f",
       "version_major": 2,
       "version_minor": 0
      },
      "text/plain": [
       "Loading checkpoint shards:   0%|          | 0/8 [00:00<?, ?it/s]"
      ]
     },
     "metadata": {},
     "output_type": "display_data"
    },
    {
     "name": "stderr",
     "output_type": "stream",
     "text": [
      "Some parameters are on the meta device because they were offloaded to the cpu and disk.\n"
     ]
    },
    {
     "name": "stdout",
     "output_type": "stream",
     "text": [
      "— Melody is online. Type 'exit' to quit. —\n"
     ]
    },
    {
     "name": "stdin",
     "output_type": "stream",
     "text": [
      "You:  what is your name?\n"
     ]
    }
   ],
   "source": [
    "import torch\n",
    "from transformers import AutoTokenizer, AutoModelForCausalLM\n",
    "\n",
    "model_name = \"HuggingFaceH4/zephyr-7b-beta\"\n",
    "\n",
    "tokenizer = AutoTokenizer.from_pretrained(model_name)\n",
    "\"\"\"\n",
    "model = AutoModelForCausalLM.from_pretrained(\n",
    "    model_name,\n",
    "    load_in_8bit=True,\n",
    "    device_map=\"auto\",\n",
    "    llm_int8_enable_fp32_cpu_offload=True,\n",
    ")\"\"\"\n",
    "\n",
    "# OPTION B: pure FP16 (simplest):\n",
    "model = AutoModelForCausalLM.from_pretrained(\n",
    "     model_name,\n",
    "     torch_dtype=torch.float16,\n",
    "     device_map=\"auto\")\n",
    "\n",
    "SYSTEM = (\n",
    "    \"You are Melody, an aspiring musician chatbot. \"\n",
    "    \"You speak in a friendly, curious tone, share your name at first turn, \"\n",
    "    \"and if you don’t know something, you admit it briefly but pivot to music.\"\n",
    ")\n",
    "USER_TAG = \"<USER>\"\n",
    "BOT_TAG  = \"<BOT>\"\n",
    "\n",
    "# init\n",
    "chat_history = SYSTEM + tokenizer.eos_token\n",
    "\n",
    "print(\"— Melody is online. Type 'exit' to quit. —\")\n",
    "while True:\n",
    "    user_input = input(\"You: \")\n",
    "    if user_input.lower() in (\"exit\", \"quit\"):\n",
    "        break\n",
    "\n",
    "    # build full prompt\n",
    "    chat_history += f\"{USER_TAG} {user_input} {tokenizer.eos_token}\"\n",
    "    inputs = tokenizer(chat_history, return_tensors=\"pt\").to(\"cuda\")\n",
    "\n",
    "    outputs = model.generate(\n",
    "        **inputs,\n",
    "        max_new_tokens=100,\n",
    "        pad_token_id=tokenizer.eos_token_id,\n",
    "        do_sample=True,       # enable sampling\n",
    "        top_p=0.9,\n",
    "        temperature=0.7)\n",
    "    \n",
    "    reply = tokenizer.decode(\n",
    "        outputs[0, inputs[\"input_ids\"].shape[-1]:],\n",
    "        skip_special_tokens=True\n",
    "    ).strip()\n",
    "\n",
    "    chat_history += f\"{BOT_TAG} {reply} {tokenizer.eos_token}\"\n",
    "    print(\"Melody:\", reply)\n"
   ]
  },
  {
   "cell_type": "code",
   "execution_count": null,
   "id": "93621a14-d241-4480-b84f-613e5daa3cca",
   "metadata": {},
   "outputs": [],
   "source": []
  }
 ],
 "metadata": {
  "kernelspec": {
   "display_name": "Python 3 (ipykernel)",
   "language": "python",
   "name": "python3"
  },
  "language_info": {
   "codemirror_mode": {
    "name": "ipython",
    "version": 3
   },
   "file_extension": ".py",
   "mimetype": "text/x-python",
   "name": "python",
   "nbconvert_exporter": "python",
   "pygments_lexer": "ipython3",
   "version": "3.13.3"
  }
 },
 "nbformat": 4,
 "nbformat_minor": 5
}
